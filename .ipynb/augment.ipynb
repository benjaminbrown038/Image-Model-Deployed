{
 "cells": [
  {
   "cell_type": "code",
   "execution_count": 1,
   "id": "6df32ae4",
   "metadata": {
    "scrolled": true
   },
   "outputs": [
    {
     "ename": "ModuleNotFoundError",
     "evalue": "No module named 'keras'",
     "output_type": "error",
     "traceback": [
      "\u001b[0;31m---------------------------------------------------------------------------\u001b[0m",
      "\u001b[0;31mModuleNotFoundError\u001b[0m                       Traceback (most recent call last)",
      "\u001b[0;32m/tmp/ipykernel_8760/1961368112.py\u001b[0m in \u001b[0;36m<module>\u001b[0;34m\u001b[0m\n\u001b[0;32m----> 1\u001b[0;31m \u001b[0;32mfrom\u001b[0m \u001b[0mkeras\u001b[0m\u001b[0;34m.\u001b[0m\u001b[0mimage\u001b[0m\u001b[0;34m.\u001b[0m\u001b[0mpreprocess\u001b[0m \u001b[0;32mimport\u001b[0m \u001b[0mImageDataGenerator\u001b[0m\u001b[0;34m\u001b[0m\u001b[0;34m\u001b[0m\u001b[0m\n\u001b[0m\u001b[1;32m      2\u001b[0m \u001b[0;32mimport\u001b[0m \u001b[0mnumpy\u001b[0m \u001b[0;32mas\u001b[0m \u001b[0mnp\u001b[0m\u001b[0;34m\u001b[0m\u001b[0;34m\u001b[0m\u001b[0m\n\u001b[1;32m      3\u001b[0m \u001b[0;34m\u001b[0m\u001b[0m\n\u001b[1;32m      4\u001b[0m \u001b[0;31m# need to save training and testing data so model.py can access it\u001b[0m\u001b[0;34m\u001b[0m\u001b[0;34m\u001b[0m\u001b[0;34m\u001b[0m\u001b[0m\n\u001b[1;32m      5\u001b[0m \u001b[0;34m\u001b[0m\u001b[0m\n",
      "\u001b[0;31mModuleNotFoundError\u001b[0m: No module named 'keras'"
     ]
    }
   ],
   "source": [
    "from keras.image.preprocess import ImageDataGenerator\n",
    "import numpy as np\n",
    "\n",
    "# need to save training and testing data so model.py can access it  \n",
    "\n",
    "class Augment():\n",
    "    \n",
    "    def aug(self):\n",
    "    \n",
    "        training_data = ImageDataGenerator(rotation_range=40,\n",
    "            width_shift_range=0.2,\n",
    "            height_shift_range=0.2,\n",
    "            rescale=1./255,\n",
    "            shear_range=0.2,\n",
    "            zoom_range=0.2,\n",
    "            horizontal_flip=True,\n",
    "            fill_mode='nearest')\n",
    "\n",
    "        testing_data = ImageDataGenerator(scale_width = 1/255)\n",
    "\n",
    "        training_data = train_datagen.flow_from_directory('/Images/training',\n",
    "                                                          target_size = (150,150),\n",
    "                                                          batch_size = 32,\n",
    "                                                          class_mode = 'binary')\n",
    "\n",
    "        testing_data = test_datagen.flow_from_directory('/Images/testing',\n",
    "                                                        target_size = (150,150),\n",
    "                                                        batch_size=32,\n",
    "                                                        class_mode = 'binary')\n",
    "        x_train = training_data[0][0]\n",
    "        x_train /= 255\n",
    "        x_train = np.rollaxis(x_train,3,1)\n",
    "        y_train = training_data[0][1]\n",
    "\n",
    "        x_test = testing_data[0][0]\n",
    "        x_test /= 255\n",
    "        x_test = np.rollaxis(x_test,3,1)\n",
    "        y_test = testing_data[0][1]\n",
    "        return x_test\n",
    "        return y_test\n",
    "        return y_train \n",
    "        return x_train\n"
   ]
  },
  {
   "cell_type": "code",
   "execution_count": 5,
   "id": "7c36413c",
   "metadata": {},
   "outputs": [],
   "source": [
    "import sqlite3\n",
    "    \n",
    "class DataStorage():\n",
    "        \n",
    "    def table():\n",
    "        con = sqlite3.connect('data.db')\n",
    "        cur = con.cursor()\n",
    "        # insert correct data values for images in sql data base \n",
    "        cur.execute(\"CREATE TABLE IF NOT EXISTS inventory (picture VARBINARY)\")\n",
    "        con.commit()\n",
    "        con.close()\n",
    "            \n",
    "    def insert(item,quantity,price):\n",
    "        con = sqlite3.connect('data.db')\n",
    "        cur = con.cursor()\n",
    "        cur.execute(\"INSERT INTO inventory VALUES(?,?,?)\",())\n",
    "        con.commit()\n",
    "        con.close()\n",
    "            "
   ]
  },
  {
   "cell_type": "code",
   "execution_count": null,
   "id": "b47d076b",
   "metadata": {},
   "outputs": [],
   "source": []
  }
 ],
 "metadata": {
  "kernelspec": {
   "display_name": "Python 3",
   "language": "python",
   "name": "python3"
  },
  "language_info": {
   "codemirror_mode": {
    "name": "ipython",
    "version": 3
   },
   "file_extension": ".py",
   "mimetype": "text/x-python",
   "name": "python",
   "nbconvert_exporter": "python",
   "pygments_lexer": "ipython3",
   "version": "3.8.3"
  }
 },
 "nbformat": 4,
 "nbformat_minor": 5
}
