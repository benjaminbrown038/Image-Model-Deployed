{
 "cells": [
  {
   "cell_type": "code",
   "execution_count": null,
   "id": "4c6396f7",
   "metadata": {},
   "outputs": [
    {
     "name": "stderr",
     "output_type": "stream",
     "text": [
      "[WDM] - \n",
      "\n",
      "[WDM] - ====== WebDriver manager ======\n",
      "[WDM] - Current google-chrome version is 95.0.4638\n",
      "[WDM] - Get LATEST driver version for 95.0.4638\n",
      "[WDM] - Driver [C:\\Users\\BenBrown\\.wdm\\drivers\\chromedriver\\win32\\95.0.4638.17\\chromedriver.exe] found in cache\n",
      "C:\\Users\\BenBrown\\AppData\\Local\\Temp/ipykernel_2388/3119683795.py:39: DeprecationWarning: executable_path has been deprecated, please pass in a Service object\n",
      "  wd = webdriver.Chrome(ChromeDriverManager().install())\n"
     ]
    }
   ],
   "source": [
    "'''\n",
    "how to document imports\n",
    "'''\n",
    "# pause after scrolling results page\n",
    "import time\n",
    "# for accessing web\n",
    "import selenium\n",
    "# for chromedriver\n",
    "from selenium import webdriver\n",
    "# to navigate results page\n",
    "from selenium.webdriver.common.keys import Keys\n",
    "# to retreive http data\n",
    "import requests\n",
    "# checking and making directory\n",
    "import os\n",
    "# open image after decoded\n",
    "import PIL\n",
    "# open image after decoded\n",
    "from PIL import Image\n",
    "# decoding\n",
    "import io\n",
    "# decoding\n",
    "import base64\n",
    "search_name = 'dogs'\n",
    "# specific to user Desktop where chrome driver is downloaded\n",
    "#PATH = os.getcwd()\n",
    "PATH = \"C:\\\\Users\\\\BenBrown\\\\Sharpest-Minds-Project\\\\chromedriver.exe\"\n",
    "#DRIVER_PATH = PATH + '\\chromedriver'\n",
    "#options = webdriver.ChromeOptions()\n",
    "#options.add_argument('--disable-extensions')\n",
    "\n",
    "#from selenium import webdriver\n",
    "import webdriver_manager\n",
    "from webdriver_manager import chrome\n",
    "from webdriver_manager.chrome import ChromeDriverManager\n",
    "from selenium.webdriver.common.by import By\n",
    "\n",
    "\n",
    "wd = webdriver.Chrome(ChromeDriverManager().install())\n",
    "#wd = webdriver.Chrome(executable_path=PATH)\n",
    "# specific for requesting images\n",
    "search_url = \"https://www.google.com/search?q={q}&sxsrf=ALeKk02zAb9RaNNb-qSenTEJh1i2XX480w:1613489053802&source=lnms&tbm=isch&sa=X&ved=2ahUKEwjChJqP2-7uAhVyTTABHdX0CPoQ_AUoAXoECAcQAw&biw=767&bih=841\"\n",
    "wd.get(search_url.format(q=search_name))\n",
    "# get images links, remove noise, decode cleaned data, size and open image, save image, create folder, save images from search to folder\n",
    "# def scrape_and_save(self,search_name):\n",
    "#body = wd.find_element_by_tag_name(\"body\")\n",
    "body = wd.find_element(By.TAG_NAME,\"body\")\n",
    "# scrolling search page results\n",
    "body.send_keys(Keys.PAGE_DOWN)\n",
    "time.sleep(2.5)\n",
    "# list of classes\n",
    "#main = wd.find_element_by_class_name(\"rg_i.Q4LuWd\")\n",
    "main = wd.find_elements(By.CLASS_NAME,\"rg_i.Q4LuWd\")\n",
    "# getting image links (ASCII data communication) stored as base64 and http urls from img (html) tag with src holding the path (url)\n",
    "print(len(main))"
   ]
  },
  {
   "cell_type": "code",
   "execution_count": null,
   "id": "6fffa679",
   "metadata": {},
   "outputs": [],
   "source": []
  }
 ],
 "metadata": {
  "kernelspec": {
   "display_name": "Python 3 (ipykernel)",
   "language": "python",
   "name": "python3"
  },
  "language_info": {
   "codemirror_mode": {
    "name": "ipython",
    "version": 3
   },
   "file_extension": ".py",
   "mimetype": "text/x-python",
   "name": "python",
   "nbconvert_exporter": "python",
   "pygments_lexer": "ipython3",
   "version": "3.10.0"
  }
 },
 "nbformat": 4,
 "nbformat_minor": 5
}
