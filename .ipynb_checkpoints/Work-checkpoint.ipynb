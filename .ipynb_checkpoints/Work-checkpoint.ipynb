{
 "cells": [
  {
   "cell_type": "code",
   "execution_count": 1,
   "metadata": {},
   "outputs": [
    {
     "name": "stderr",
     "output_type": "stream",
     "text": [
      "Copying files: 70 files [00:00, 568.10 files/s]\n"
     ]
    },
    {
     "name": "stdout",
     "output_type": "stream",
     "text": [
      "Found 56 images belonging to 1 classes.\n",
      "Found 14 images belonging to 1 classes.\n"
     ]
    },
    {
     "data": {
      "text/plain": [
       "tuple"
      ]
     },
     "execution_count": 1,
     "metadata": {},
     "output_type": "execute_result"
    }
   ],
   "source": [
    "from tensorflow.keras.preprocessing.image import ImageDataGenerator\n",
    "import splitfolders\n",
    "import os\n",
    "import numpy as np\n",
    "from tensorflow.keras.models import Sequential\n",
    "from tensorflow.keras.layers import Conv2D, MaxPooling2D, Flatten, Dense\n",
    "from tensorflow.keras.optimizers import SGD\n",
    "from tensorflow.keras.losses import BinaryCrossentropy\n",
    "from tensorflow.keras.metrics import Accuracy\n",
    "from tensorflow.keras.applications.vgg16 import VGG16\n",
    "\n",
    "# split data into validation and training after created new folder.\n",
    "splitfolders.ratio('Images', output= 'Augmented_Images', seed = 1337, ratio = ((0.8,0.2)))\n",
    "\n",
    "training = ImageDataGenerator(rotation_range=40,\n",
    "                                width_shift_range=0.2,\n",
    "                                height_shift_range=0.2,\n",
    "                                rescale=1./255,\n",
    "                                shear_range=0.2,\n",
    "                                zoom_range=0.2,\n",
    "                                horizontal_flip=True,\n",
    "                                fill_mode='nearest')\n",
    "\n",
    "training_directory = 'Augmented_Images/train/'\n",
    "# variable with batch size, from images in training dir\n",
    "training_batch_size = len(os.listdir(training_directory))\n",
    "training_data = training.flow_from_directory(training_directory,\n",
    "                                        target_size=(150,150),\n",
    "                                        batch_size = training_batch_size,\n",
    "                                        shuffle = False,\n",
    "                                        class_mode = 'binary')\n",
    "\n",
    "validation = ImageDataGenerator(rescale = 1./255)\n",
    "\n",
    "validation_directory = 'Augmented_Images/val/'\n",
    "validation_batch_size = len(os.listdir(validation_directory))\n",
    "validation_data = validation.flow_from_directory(validation_directory)\n",
    "\n",
    "x_train = training_data\n",
    "type(x_train[0])\n",
    "#model.fit(x_train,y_train)\n",
    "#\n"
   ]
  },
  {
   "cell_type": "code",
   "execution_count": null,
   "metadata": {},
   "outputs": [],
   "source": [
    "len(x_train[0])"
   ]
  }
 ],
 "metadata": {
  "kernelspec": {
   "display_name": "Python 3",
   "language": "python",
   "name": "python3"
  },
  "language_info": {
   "codemirror_mode": {
    "name": "ipython",
    "version": 3
   },
   "file_extension": ".py",
   "mimetype": "text/x-python",
   "name": "python",
   "nbconvert_exporter": "python",
   "pygments_lexer": "ipython3",
   "version": "3.6.4"
  }
 },
 "nbformat": 4,
 "nbformat_minor": 2
}
