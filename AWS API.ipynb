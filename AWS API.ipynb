{
 "cells": [
  {
   "cell_type": "code",
   "execution_count": 4,
   "id": "f56b8847",
   "metadata": {},
   "outputs": [
    {
     "ename": "TabError",
     "evalue": "inconsistent use of tabs and spaces in indentation (data.py, line 14)",
     "output_type": "error",
     "traceback": [
      "Traceback \u001b[0;36m(most recent call last)\u001b[0m:\n",
      "  File \u001b[1;32m\"/home/trey/miniconda3/lib/python3.8/site-packages/IPython/core/interactiveshell.py\"\u001b[0m, line \u001b[1;32m3441\u001b[0m, in \u001b[1;35mrun_code\u001b[0m\n    exec(code_obj, self.user_global_ns, self.user_ns)\n",
      "\u001b[0;36m  File \u001b[0;32m\"/tmp/ipykernel_29857/3917617982.py\"\u001b[0;36m, line \u001b[0;32m13\u001b[0;36m, in \u001b[0;35m<module>\u001b[0;36m\u001b[0m\n\u001b[0;31m    import data\u001b[0m\n",
      "\u001b[0;36m  File \u001b[0;32m\"/home/trey/Sharpest-Minds-Project/data.py\"\u001b[0;36m, line \u001b[0;32m14\u001b[0m\n\u001b[0;31m    body.send_keys(Keys.PAGE_DOWN)\u001b[0m\n\u001b[0m                                  ^\u001b[0m\n\u001b[0;31mTabError\u001b[0m\u001b[0;31m:\u001b[0m inconsistent use of tabs and spaces in indentation\n"
     ]
    }
   ],
   "source": [
    "# depoying my first mdoel\n",
    "# understanding the machine learning pipe line\n",
    "import os \n",
    "# simple storage device (S3 bucket)\n",
    "import boto3\n",
    "# check if a string matches a regular expression or if an expression \n",
    "# matches a string\n",
    "import re \n",
    "# training and deploying machine learning models\n",
    "from sagemaker import get_execution_role\n",
    "#import data\n",
    "import ipynb\n",
    "import data"
   ]
  },
  {
   "cell_type": "code",
   "execution_count": null,
   "id": "47ad9c65",
   "metadata": {
    "scrolled": true
   },
   "outputs": [],
   "source": [
    "bucket = 'Your_S3_Bucket'\n",
    "data_key = "
   ]
  },
  {
   "cell_type": "code",
   "execution_count": null,
   "id": "04024f08",
   "metadata": {},
   "outputs": [],
   "source": []
  }
 ],
 "metadata": {
  "kernelspec": {
   "display_name": "Python 3",
   "language": "python",
   "name": "python3"
  },
  "language_info": {
   "codemirror_mode": {
    "name": "ipython",
    "version": 3
   },
   "file_extension": ".py",
   "mimetype": "text/x-python",
   "name": "python",
   "nbconvert_exporter": "python",
   "pygments_lexer": "ipython3",
   "version": "3.8.3"
  }
 },
 "nbformat": 4,
 "nbformat_minor": 5
}
