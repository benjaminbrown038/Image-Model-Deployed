{
 "cells": [
  {
   "cell_type": "code",
   "execution_count": 19,
   "id": "7e99cb82",
   "metadata": {
    "scrolled": true
   },
   "outputs": [],
   "source": [
    "class data:    \n",
    "    \n",
    "    import time \n",
    "    import selenium \n",
    "    from selenium import webdriver\n",
    "    from selenium.webdriver.common.keys import Keys\n",
    "    import requests\n",
    "    import os\n",
    "    \n",
    "    DRIVER_PATH = '/home/trey/Sharpest-Minds-Project/chromedriver'\n",
    "    wd = webdriver.Chrome(DRIVER_PATH)\n",
    "    search_url = \"https://www.google.com/search?q={q}&sxsrf=ALeKk02zAb9RaNNb-qSenTEJh1i2XX480w:1613489053802&source=lnms&tbm=isch&sa=X&ved=2ahUKEwjChJqP2-7uAhVyTTABHdX0CPoQ_AUoAXoECAcQAw&biw=767&bih=841\"\n",
    "\n",
    "    def __init__(self,search_name):\n",
    "        wd.get(search_url.format(q=search_name))\n",
    "        \n",
    "    def scrape_and_save(search_name,web_driver = wd):\n",
    "        body = wd.find_element_by_tag_name(\"body\")\n",
    "        body.send_keys(Keys.PAGE_DOWN)\n",
    "        time.sleep(2.5)\n",
    "        main = wd.find_elements_by_class_name(\"rg_i.Q4LuWd\")\n",
    "        wd.quit()\n",
    "        links = [main[i].get_attribute('src') for i in range(len(main))]\n",
    "        imagess = []\n",
    "        for image in links:\n",
    "    # making sure type of data is an image containing the string google encodes for an image\n",
    "            if type(image) == str:\n",
    "        # checking conditional text so Image library can open based on based64 conversion\n",
    "                if image[0:4] == 'data':\n",
    "            # replace text so we can open it\n",
    "                    new = image.replace(\"data:image/jpeg;base64,\",\"\")\n",
    "            # adding equals at the end for decoding\n",
    "                    if new[-2:] != '==':\n",
    "                        new_edit = new + '=='\n",
    "                # image becomes Image object\n",
    "                        new_image = (Image.open(BytesIO(base64.b64decode(new_edit)))).resize((150,150))\n",
    "                        imagess.append(new_image)\n",
    "                    else:\n",
    "                        new_image = (Image.open(BytesIO(base64.b64decode(new)))).resize((150,150))\n",
    "                        imagess.append(new_image)\n",
    "                if image[0:4] == 'http':\n",
    "                    new = requests.get(image)\n",
    "                    new_image = Image.open(BytesIO(image.content))\n",
    "                    imagess.append(new_image)\n",
    "# creating directories, saving images, and creating names for images as jpeg files\n",
    "        os.mkdir('Images')\n",
    "        os.mkdir('Images/regular')\n",
    "        index = 0 \n",
    "        for i in imagess:\n",
    "            i.save('Images/regular'+'/'+string(index)+'.jpeg')\n",
    "            index += 1\n",
    "\n",
    "\n",
    "#\n"
   ]
  },
  {
   "cell_type": "code",
   "execution_count": null,
   "id": "33332d0c",
   "metadata": {},
   "outputs": [],
   "source": []
  }
 ],
 "metadata": {
  "kernelspec": {
   "display_name": "Python 3",
   "language": "python",
   "name": "python3"
  },
  "language_info": {
   "codemirror_mode": {
    "name": "ipython",
    "version": 3
   },
   "file_extension": ".py",
   "mimetype": "text/x-python",
   "name": "python",
   "nbconvert_exporter": "python",
   "pygments_lexer": "ipython3",
   "version": "3.8.3"
  }
 },
 "nbformat": 4,
 "nbformat_minor": 5
}
