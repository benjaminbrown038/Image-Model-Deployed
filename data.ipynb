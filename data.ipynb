{
 "cells": [
  {
   "cell_type": "code",
   "execution_count": 14,
   "id": "7e99cb82",
   "metadata": {
    "scrolled": true
   },
   "outputs": [],
   "source": [
    "import time \n",
    "import selenium \n",
    "from selenium import webdriver\n",
    "from selenium.webdriver.common.keys import Keys\n",
    "import requests\n",
    "import os\n",
    "import PIL\n",
    "from PIL import Image\n",
    "import io\n",
    "import base64 \n",
    "\n",
    "class Data():    \n",
    "    \n",
    "    def __init__(self,search_name):\n",
    "        DRIVER_PATH = '/home/trey/Sharpest-Minds-Project/chromedriver'\n",
    "        self.wd = webdriver.Chrome(DRIVER_PATH)\n",
    "        search_url = \"https://www.google.com/search?q={q}&sxsrf=ALeKk02zAb9RaNNb-qSenTEJh1i2XX480w:1613489053802&source=lnms&tbm=isch&sa=X&ved=2ahUKEwjChJqP2-7uAhVyTTABHdX0CPoQ_AUoAXoECAcQAw&biw=767&bih=841\"\n",
    "        self.wd.get(search_url.format(q=search_name))\n",
    "  \n",
    "    def scrape_and_save(self,search_name):\n",
    "        body = self.wd.find_element_by_tag_name(\"body\")\n",
    "        body.send_keys(Keys.PAGE_DOWN)\n",
    "        time.sleep(2.5)\n",
    "        main = self.wd.find_elements_by_class_name(\"rg_i.Q4LuWd\")\n",
    "        links = [main[i].get_attribute('src') for i in range(len(main))]\n",
    "        self.wd.quit()\n",
    "        images = []\n",
    "        for image in links:\n",
    "            if type(image) == str:\n",
    "                # checking conditional text so Image library can open based on based64 conversion\n",
    "                if image[0:4] == 'data':\n",
    "                    # replace text so we can open it\n",
    "                    new = image.replace(\"data:image/jpeg;base64,\",\"\")\n",
    "                    # adding equals at the end for decoding\n",
    "                    if new[-2:] != '==':\n",
    "                        new_edit = new + '=='\n",
    "                        # image becomes Image object\n",
    "                        new_image = (Image.open(io.BytesIO(base64.b64decode(new_edit)))).resize((150,150))\n",
    "                        images.append(new_image)\n",
    "                    else:\n",
    "                        new_image = (Image.open(io.BytesIO(base64.b64decode(new)))).resize((150,150))\n",
    "                        images.append(new_image)\n",
    "                if image[0:4] == 'http':\n",
    "                    new = requests.get(image)\n",
    "                    new_image = Image.open(io.BytesIO(new.content))\n",
    "                    images.append(new_image)\n",
    "        # creating directories, saving images, and creating names for images as jpeg files\n",
    "        os.makedirs('Images/', exist_ok=True)\n",
    "        os.makedirs('Images/training', exist_ok=True)\n",
    "        os.makedirs('Images/testing', exist_ok=True)\n",
    "        index = 0 \n",
    "        for i in images:\n",
    "            i.save('Images/training'+'/'+ search_name + str(index) +'.jpeg')\n",
    "            index += 1 \n"
   ]
  },
  {
   "cell_type": "code",
   "execution_count": 13,
   "id": "e6fd6685",
   "metadata": {},
   "outputs": [],
   "source": [
    "data = Data('cats')"
   ]
  },
  {
   "cell_type": "code",
   "execution_count": 9,
   "id": "2239eb2b",
   "metadata": {
    "scrolled": true
   },
   "outputs": [],
   "source": [
    "Data.scrape_and_save(data,'cats')"
   ]
  },
  {
   "cell_type": "code",
   "execution_count": null,
   "id": "47be0cae",
   "metadata": {},
   "outputs": [],
   "source": []
  }
 ],
 "metadata": {
  "kernelspec": {
   "display_name": "Python 3",
   "language": "python",
   "name": "python3"
  },
  "language_info": {
   "codemirror_mode": {
    "name": "ipython",
    "version": 3
   },
   "file_extension": ".py",
   "mimetype": "text/x-python",
   "name": "python",
   "nbconvert_exporter": "python",
   "pygments_lexer": "ipython3",
   "version": "3.8.3"
  }
 },
 "nbformat": 4,
 "nbformat_minor": 5
}
