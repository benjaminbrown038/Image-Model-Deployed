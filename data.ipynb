{
 "cells": [
  {
   "cell_type": "code",
   "execution_count": 17,
   "id": "7e99cb82",
   "metadata": {
    "scrolled": true
   },
   "outputs": [],
   "source": [
    "import time \n",
    "import selenium \n",
    "from selenium import webdriver\n",
    "from selenium.webdriver.common.keys import Keys\n",
    "import requests\n",
    "import os\n",
    "import PIL\n",
    "from PIL import Image\n",
    "#from io import bytesIO\n",
    "import io\n",
    "import base64 \n",
    "\n",
    "class Data():    \n",
    "\n",
    "    \n",
    "    def __init__(self,search_name):\n",
    "        DRIVER_PATH = '/home/trey/Sharpest-Minds-Project/chromedriver'\n",
    "        self.wd = webdriver.Chrome(DRIVER_PATH)\n",
    "        search_url = \"https://www.google.com/search?q={q}&sxsrf=ALeKk02zAb9RaNNb-qSenTEJh1i2XX480w:1613489053802&source=lnms&tbm=isch&sa=X&ved=2ahUKEwjChJqP2-7uAhVyTTABHdX0CPoQ_AUoAXoECAcQAw&biw=767&bih=841\"\n",
    "        self.wd.get(search_url.format(q=search_name))\n",
    "\n",
    "\n",
    "#class Save():\n",
    "    \n",
    "    def scrape_and_save(self):\n",
    "        body = self.wd.find_element_by_tag_name(\"body\")\n",
    "        body.send_keys(Keys.PAGE_DOWN)\n",
    "        time.sleep(2.5)\n",
    "        main = self.wd.find_elements_by_class_name(\"rg_i.Q4LuWd\")\n",
    "        links = [main[i].get_attribute('src') for i in range(len(main))]\n",
    "        self.wd.quit()\n",
    "        images = []\n",
    "        for image in links:\n",
    "            # making sure type of data is an image containing the string google encodes for an image\n",
    "            if type(image) == str:\n",
    "                # checking conditional text so Image library can open based on based64 conversion\n",
    "                if image[0:4] == 'data':\n",
    "                    print(\"HEre\")\n",
    "                    # replace text so we can open it\n",
    "                    new = image.replace(\"data:image/jpeg;base64,\",\"\")\n",
    "                    # adding equals at the end for decoding\n",
    "                    if new[-2:] != '==':\n",
    "                        new_edit = new + '=='\n",
    "                        # image becomes Image object\n",
    "                        new_image = (Image.open(io.BytesIO(base64.b64decode(new_edit)))).resize((150,150))\n",
    "                        images.append(new_image)\n",
    "                    else:\n",
    "                        new_image = (Image.open(io.BytesIO(base64.b64decode(new)))).resize((150,150))\n",
    "                        images.append(new_image)\n",
    "                if image[0:4] == 'http':\n",
    "                    new = requests.get(image)\n",
    "                    new_image = Image.open(io.BytesIO(new.content))\n",
    "                    images.append(new_image)\n",
    "        # creating directories, saving images, and creating names for images as jpeg files\n",
    "        #os.mkdir('Images')\n",
    "        #os.mkdir('Images/training')\n",
    "        #os.mkdir('Images/testing')\n",
    "        index = 0 \n",
    "        for i in images:\n",
    "            #  images = original_lst = list(range(10))\n",
    "            # i = images[:int(len(images*0.8))]\n",
    "            #new_lst = original_lst[:int(len(original_lst)*0.9)]\n",
    "            #print(new_lst)\n",
    "            i.save('Images/training'+'/'+ str(index)+'.jpeg')\n",
    "            index += 1 \n"
   ]
  },
  {
   "cell_type": "code",
   "execution_count": null,
   "id": "93579374",
   "metadata": {},
   "outputs": [],
   "source": []
  },
  {
   "cell_type": "code",
   "execution_count": null,
   "id": "bf97990d",
   "metadata": {},
   "outputs": [],
   "source": []
  },
  {
   "cell_type": "code",
   "execution_count": 15,
   "id": "6b15d821",
   "metadata": {},
   "outputs": [],
   "source": [
    "data = Data('dogs')"
   ]
  },
  {
   "cell_type": "code",
   "execution_count": 16,
   "id": "3858762b",
   "metadata": {},
   "outputs": [
    {
     "name": "stdout",
     "output_type": "stream",
     "text": [
      "HEre\n",
      "HEre\n",
      "HEre\n",
      "HEre\n",
      "HEre\n",
      "HEre\n",
      "HEre\n",
      "HEre\n",
      "HEre\n",
      "HEre\n",
      "HEre\n",
      "HEre\n",
      "HEre\n",
      "HEre\n",
      "HEre\n",
      "HEre\n",
      "HEre\n",
      "HEre\n",
      "HEre\n",
      "HEre\n"
     ]
    },
    {
     "ename": "AttributeError",
     "evalue": "'str' object has no attribute 'content'",
     "output_type": "error",
     "traceback": [
      "\u001b[0;31m---------------------------------------------------------------------------\u001b[0m",
      "\u001b[0;31mAttributeError\u001b[0m                            Traceback (most recent call last)",
      "\u001b[0;32m/tmp/ipykernel_1554/3035547604.py\u001b[0m in \u001b[0;36m<module>\u001b[0;34m\u001b[0m\n\u001b[0;32m----> 1\u001b[0;31m \u001b[0mData\u001b[0m\u001b[0;34m.\u001b[0m\u001b[0mscrape_and_save\u001b[0m\u001b[0;34m(\u001b[0m\u001b[0mdata\u001b[0m\u001b[0;34m)\u001b[0m\u001b[0;34m\u001b[0m\u001b[0;34m\u001b[0m\u001b[0m\n\u001b[0m",
      "\u001b[0;32m/tmp/ipykernel_1554/2972539718.py\u001b[0m in \u001b[0;36mscrape_and_save\u001b[0;34m(self)\u001b[0m\n\u001b[1;32m     50\u001b[0m                 \u001b[0;32mif\u001b[0m \u001b[0mimage\u001b[0m\u001b[0;34m[\u001b[0m\u001b[0;36m0\u001b[0m\u001b[0;34m:\u001b[0m\u001b[0;36m4\u001b[0m\u001b[0;34m]\u001b[0m \u001b[0;34m==\u001b[0m \u001b[0;34m'http'\u001b[0m\u001b[0;34m:\u001b[0m\u001b[0;34m\u001b[0m\u001b[0;34m\u001b[0m\u001b[0m\n\u001b[1;32m     51\u001b[0m                     \u001b[0mnew\u001b[0m \u001b[0;34m=\u001b[0m \u001b[0mrequests\u001b[0m\u001b[0;34m.\u001b[0m\u001b[0mget\u001b[0m\u001b[0;34m(\u001b[0m\u001b[0mimage\u001b[0m\u001b[0;34m)\u001b[0m\u001b[0;34m\u001b[0m\u001b[0;34m\u001b[0m\u001b[0m\n\u001b[0;32m---> 52\u001b[0;31m                     \u001b[0mnew_image\u001b[0m \u001b[0;34m=\u001b[0m \u001b[0mImage\u001b[0m\u001b[0;34m.\u001b[0m\u001b[0mopen\u001b[0m\u001b[0;34m(\u001b[0m\u001b[0mio\u001b[0m\u001b[0;34m.\u001b[0m\u001b[0mBytesIO\u001b[0m\u001b[0;34m(\u001b[0m\u001b[0mimage\u001b[0m\u001b[0;34m.\u001b[0m\u001b[0mcontent\u001b[0m\u001b[0;34m)\u001b[0m\u001b[0;34m)\u001b[0m\u001b[0;34m\u001b[0m\u001b[0;34m\u001b[0m\u001b[0m\n\u001b[0m\u001b[1;32m     53\u001b[0m                     \u001b[0mimages\u001b[0m\u001b[0;34m.\u001b[0m\u001b[0mappend\u001b[0m\u001b[0;34m(\u001b[0m\u001b[0mnew_image\u001b[0m\u001b[0;34m)\u001b[0m\u001b[0;34m\u001b[0m\u001b[0;34m\u001b[0m\u001b[0m\n\u001b[1;32m     54\u001b[0m         \u001b[0;31m# creating directories, saving images, and creating names for images as jpeg files\u001b[0m\u001b[0;34m\u001b[0m\u001b[0;34m\u001b[0m\u001b[0;34m\u001b[0m\u001b[0m\n",
      "\u001b[0;31mAttributeError\u001b[0m: 'str' object has no attribute 'content'"
     ]
    }
   ],
   "source": [
    "Data.scrape_and_save(data)"
   ]
  },
  {
   "cell_type": "code",
   "execution_count": null,
   "id": "c3eab75d",
   "metadata": {},
   "outputs": [],
   "source": []
  },
  {
   "cell_type": "code",
   "execution_count": null,
   "id": "3522bc5a",
   "metadata": {},
   "outputs": [],
   "source": []
  },
  {
   "cell_type": "code",
   "execution_count": null,
   "id": "c4779508",
   "metadata": {},
   "outputs": [],
   "source": []
  },
  {
   "cell_type": "code",
   "execution_count": null,
   "id": "46fdbfb2",
   "metadata": {},
   "outputs": [],
   "source": []
  },
  {
   "cell_type": "code",
   "execution_count": null,
   "id": "a9073797",
   "metadata": {},
   "outputs": [],
   "source": []
  },
  {
   "cell_type": "code",
   "execution_count": 52,
   "id": "cb734dae",
   "metadata": {},
   "outputs": [],
   "source": [
    "class Save():\n",
    "    \n",
    "    def __init__(links):\n",
    "        images = []\n",
    "        for image in links:\n",
    "            # making sure type of data is an image containing the string google encodes for an image\n",
    "            if type(image) == str:\n",
    "                # checking conditional text so Image library can open based on based64 conversion\n",
    "                if image[0:4] == 'data':\n",
    "                    print(\"HEre\")\n",
    "                    # replace text so we can open it\n",
    "                    new = image.replace(\"data:image/jpeg;base64,\",\"\")\n",
    "                    # adding equals at the end for decoding\n",
    "                    if new[-2:] != '==':\n",
    "                        new_edit = new + '=='\n",
    "                        # image becomes Image object\n",
    "                        new_image = (Image.open(BytesIO(base64.b64decode(new_edit)))).resize((150,150))\n",
    "                        images.append(new_image)\n",
    "                    else:\n",
    "                        new_image = (Image.open(BytesIO(base64.b64decode(new)))).resize((150,150))\n",
    "                        images.append(new_image)\n",
    "                if image[0:4] == 'http':\n",
    "                    new = requests.get(image)\n",
    "                    new_image = Image.open(BytesIO(image.content))\n",
    "                    images.append(new_image)\n",
    "        # creating directories, saving images, and creating names for images as jpeg files\n",
    "        os.mkdir('Images')\n",
    "        os.mkdir('Images/training')\n",
    "        os.mkdir('Images/testing')\n",
    "        index = 0 \n",
    "        for i in images:\n",
    "            #  images = original_lst = list(range(10))\n",
    "            # i = images[:int(len(images*0.8))]\n",
    "            #new_lst = original_lst[:int(len(original_lst)*0.9)]\n",
    "            #print(new_lst)\n",
    "            i.save('Images/training'+'/'+string(index)+'.jpeg')\n",
    "            index += 1 \n",
    "        "
   ]
  },
  {
   "cell_type": "code",
   "execution_count": null,
   "id": "4c2072f7",
   "metadata": {},
   "outputs": [],
   "source": [
    "# two solutions to propose: \n",
    "#    1. break functionality into two seperate classes:\n",
    "            # -one will take in the result from the previous class and return the data which will be saved in folders\n",
    "            # - two will keep the function in the first class and figure out how to run "
   ]
  },
  {
   "cell_type": "code",
   "execution_count": 55,
   "id": "5240821b",
   "metadata": {},
   "outputs": [],
   "source": [
    "data = Data('dogs')"
   ]
  },
  {
   "cell_type": "code",
   "execution_count": 61,
   "id": "08a635e4",
   "metadata": {},
   "outputs": [
    {
     "ename": "TypeError",
     "evalue": "'Data' object is not iterable",
     "output_type": "error",
     "traceback": [
      "\u001b[0;31m---------------------------------------------------------------------------\u001b[0m",
      "\u001b[0;31mTypeError\u001b[0m                                 Traceback (most recent call last)",
      "\u001b[0;32m/tmp/ipykernel_2853/3035547604.py\u001b[0m in \u001b[0;36m<module>\u001b[0;34m\u001b[0m\n\u001b[0;32m----> 1\u001b[0;31m \u001b[0mData\u001b[0m\u001b[0;34m.\u001b[0m\u001b[0mscrape_and_save\u001b[0m\u001b[0;34m(\u001b[0m\u001b[0mdata\u001b[0m\u001b[0;34m)\u001b[0m\u001b[0;34m\u001b[0m\u001b[0;34m\u001b[0m\u001b[0m\n\u001b[0m",
      "\u001b[0;32m/tmp/ipykernel_2853/3970621815.py\u001b[0m in \u001b[0;36mscrape_and_save\u001b[0;34m(links)\u001b[0m\n\u001b[1;32m     26\u001b[0m     \u001b[0;32mdef\u001b[0m \u001b[0mscrape_and_save\u001b[0m\u001b[0;34m(\u001b[0m\u001b[0mlinks\u001b[0m\u001b[0;34m)\u001b[0m\u001b[0;34m:\u001b[0m\u001b[0;34m\u001b[0m\u001b[0;34m\u001b[0m\u001b[0m\n\u001b[1;32m     27\u001b[0m         \u001b[0mimages\u001b[0m \u001b[0;34m=\u001b[0m \u001b[0;34m[\u001b[0m\u001b[0;34m]\u001b[0m\u001b[0;34m\u001b[0m\u001b[0;34m\u001b[0m\u001b[0m\n\u001b[0;32m---> 28\u001b[0;31m         \u001b[0;32mfor\u001b[0m \u001b[0mimage\u001b[0m \u001b[0;32min\u001b[0m \u001b[0mlinks\u001b[0m\u001b[0;34m:\u001b[0m\u001b[0;34m\u001b[0m\u001b[0;34m\u001b[0m\u001b[0m\n\u001b[0m\u001b[1;32m     29\u001b[0m             \u001b[0;31m# making sure type of data is an image containing the string google encodes for an image\u001b[0m\u001b[0;34m\u001b[0m\u001b[0;34m\u001b[0m\u001b[0;34m\u001b[0m\u001b[0m\n\u001b[1;32m     30\u001b[0m             \u001b[0;32mif\u001b[0m \u001b[0mtype\u001b[0m\u001b[0;34m(\u001b[0m\u001b[0mimage\u001b[0m\u001b[0;34m)\u001b[0m \u001b[0;34m==\u001b[0m \u001b[0mstr\u001b[0m\u001b[0;34m:\u001b[0m\u001b[0;34m\u001b[0m\u001b[0;34m\u001b[0m\u001b[0m\n",
      "\u001b[0;31mTypeError\u001b[0m: 'Data' object is not iterable"
     ]
    }
   ],
   "source": [
    "Data.scrape_and_save(data)"
   ]
  },
  {
   "cell_type": "code",
   "execution_count": 15,
   "id": "afddc2af",
   "metadata": {},
   "outputs": [],
   "source": [
    "search_name = 'dogs'"
   ]
  },
  {
   "cell_type": "code",
   "execution_count": 13,
   "id": "723667dd",
   "metadata": {},
   "outputs": [
    {
     "ename": "NameError",
     "evalue": "name 'scape_and_save' is not defined",
     "output_type": "error",
     "traceback": [
      "\u001b[0;31m---------------------------------------------------------------------------\u001b[0m",
      "\u001b[0;31mNameError\u001b[0m                                 Traceback (most recent call last)",
      "\u001b[0;32m/tmp/ipykernel_2853/3223669447.py\u001b[0m in \u001b[0;36m<module>\u001b[0;34m\u001b[0m\n\u001b[0;32m----> 1\u001b[0;31m \u001b[0mscape_and_save\u001b[0m\u001b[0;34m(\u001b[0m\u001b[0;34m'dogs'\u001b[0m\u001b[0;34m)\u001b[0m\u001b[0;34m\u001b[0m\u001b[0;34m\u001b[0m\u001b[0m\n\u001b[0m",
      "\u001b[0;31mNameError\u001b[0m: name 'scape_and_save' is not defined"
     ]
    }
   ],
   "source": [
    "scape_and_save('dogs')"
   ]
  },
  {
   "cell_type": "code",
   "execution_count": null,
   "id": "5eb51dcd",
   "metadata": {},
   "outputs": [],
   "source": []
  }
 ],
 "metadata": {
  "kernelspec": {
   "display_name": "Python 3",
   "language": "python",
   "name": "python3"
  },
  "language_info": {
   "codemirror_mode": {
    "name": "ipython",
    "version": 3
   },
   "file_extension": ".py",
   "mimetype": "text/x-python",
   "name": "python",
   "nbconvert_exporter": "python",
   "pygments_lexer": "ipython3",
   "version": "3.8.3"
  }
 },
 "nbformat": 4,
 "nbformat_minor": 5
}
